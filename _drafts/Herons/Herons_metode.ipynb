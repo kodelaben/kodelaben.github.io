{
  "nbformat": 4,
  "nbformat_minor": 0,
  "metadata": {
    "colab": {
      "name": "Herons-metode",
      "provenance": [],
      "collapsed_sections": [],
      "authorship_tag": "ABX9TyMgR83GaQnnxVRLL7ZYzUpx",
      "include_colab_link": true
    },
    "kernelspec": {
      "name": "python3",
      "display_name": "Python 3"
    }
  },
  "cells": [
    {
      "cell_type": "markdown",
      "metadata": {
        "id": "view-in-github",
        "colab_type": "text"
      },
      "source": [
        "<a href=\"https://colab.research.google.com/github/henrln/uiamn/blob/master/herons/Herons_metode.ipynb\" target=\"_parent\"><img src=\"https://colab.research.google.com/assets/colab-badge.svg\" alt=\"Open In Colab\"/></a>"
      ]
    },
    {
      "cell_type": "code",
      "metadata": {
        "id": "56SJf3UVeGac",
        "colab_type": "code",
        "colab": {}
      },
      "source": [
        "import numpy as np\n",
        "\n",
        "#######################################################\n",
        "######                                           ######\n",
        "#####   Denne koden skal tilnærme kvadratroten    #####\n",
        "#####          av et heltall n med                #####\n",
        "#####          et gitt antall desimaler           #####\n",
        "######                                           ######\n",
        "#######################################################\n",
        "\n",
        "################################################\n",
        "########                                ########   \n",
        "###### funksjonen tar inn to parametre    ######\n",
        "#####     n og s som gir ut sqrt(n) med    #####\n",
        "#####         1/10**s feilmargin og        #####\n",
        "######  forteller hvor mange iterasjoner  ######\n",
        "########                                ########\n",
        "################################################\n",
        "\n",
        "def herons(n,s): # s betegner hvor mange desimaler man ønsker at skal stemme\n",
        "  ref = np.sqrt(n) # bruker kvadratrota som referanse\n",
        "  \n",
        "  # lagrer sidelengdene i matriser X og Y \n",
        "  X = [1]    # starter med sidelengde lik 1\n",
        "  Y = [n]    # den andre sidelengden er n\n",
        "  diff = 1   # definerer hvor lenge vi skal holde på\n",
        "  i = 0      # teller antall iterasjoner\n",
        "  while diff>10**(-s):\n",
        "    x = (X[-1]+Y[-1])/2    # ny approksimasjon av n\n",
        "    y = n/x                # \n",
        "    X.append(x)            # tildeler nye verdier for x og y\n",
        "    Y.append(y)            # i matrisene X og Y\n",
        "    diff = np.abs(ref-x)   # sjekker om svaret er presist nok\n",
        "    i = i+1                # i = i+1 teller hvor mange runder som trengs\n",
        "  print(                   # printer et svar\n",
        "        \"Etter å ha brukt Herons metode \"\n",
        "        + str(i)\n",
        "        + (\" gang\" if i == 1 else \" ganger\")\n",
        "        + \", har vi tilnærmet kvadratroten til \"\n",
        "        + str(n) \n",
        "        + \" med minst \"\n",
        "        + str(s)\n",
        "        + (\" desimal\" if s==1 else \" desimaler\")\n",
        "        )\n",
        "\n",
        "  print(\"\")\n",
        "  print(                  # skriver den siste approksimasjonen for n      \n",
        "      \"Tilnærmingen er da \"+str(X[-1]\n",
        "                                )\n",
        "        )  \n",
        "  print(X)\n",
        "  print(Y)"
      ],
      "execution_count": null,
      "outputs": []
    },
    {
      "cell_type": "markdown",
      "metadata": {
        "id": "eKwP-0pyRAom",
        "colab_type": "text"
      },
      "source": [
        ""
      ]
    },
    {
      "cell_type": "markdown",
      "metadata": {
        "id": "DtJx7_oxMusk",
        "colab_type": "text"
      },
      "source": [
        "# New Section\n",
        "\n",
        "Blabla\n",
        "\\begin{equation}\n",
        "x^2 = 5 t\n",
        "  \\end{equation}\n",
        "\n"
      ]
    },
    {
      "cell_type": "code",
      "metadata": {
        "id": "PuQka0bBSHg2",
        "colab_type": "code",
        "colab": {
          "base_uri": "https://localhost:8080/",
          "height": 102
        },
        "outputId": "129edc62-f3ef-41da-b004-7c7a734c18a6"
      },
      "source": [
        "herons(2,1)"
      ],
      "execution_count": null,
      "outputs": [
        {
          "output_type": "stream",
          "text": [
            "Etter å ha brukt Herons metode 1 gang,⋅  har vi tilnærmet kvadratroten til 2 med minst 1 desimal\n",
            "\n",
            "Tilnærmingen er da 1.5\n",
            "[1, 1.5]\n",
            "[2, 1.3333333333333333]\n"
          ],
          "name": "stdout"
        }
      ]
    },
    {
      "cell_type": "markdown",
      "metadata": {
        "id": "MWu0_TBXMdPy",
        "colab_type": "text"
      },
      "source": [
        "# New Section"
      ]
    },
    {
      "cell_type": "markdown",
      "metadata": {
        "id": "4CGoEqRdRLp0",
        "colab_type": "text"
      },
      "source": [
        ""
      ]
    }
  ]
}
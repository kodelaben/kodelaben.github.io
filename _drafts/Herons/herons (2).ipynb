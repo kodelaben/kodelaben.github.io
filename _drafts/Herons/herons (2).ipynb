{
 "cells": [
  {
   "cell_type": "code",
   "execution_count": 1,
   "metadata": {},
   "outputs": [],
   "source": [
    "import numpy as np\n",
    "\n",
    "#######################################################\n",
    "######                                           ######\n",
    "#####   Denne koden skal tilnærme kvadratroten    #####\n",
    "#####          av et heltall n med                #####\n",
    "#####          et gitt antall desimaler           #####\n",
    "######                                           ######\n",
    "#######################################################\n",
    "\n",
    "################################################\n",
    "########                                ########   \n",
    "###### funksjonen tar inn to parametre    ######\n",
    "#####     n og s som gir ut sqrt(n) med    #####\n",
    "#####         1/10**s feilmargin og        #####\n",
    "######  forteller hvor mange iterasjoner  ######\n",
    "########                                ########\n",
    "################################################\n",
    "\n",
    "def herons(n,s): # s betegner hvor mange desimaler man ønsker at skal stemme\n",
    "  ref = np.sqrt(n) # bruker kvadratrota som referanse\n",
    "  \n",
    "  # lagrer sidelengdene i matriser X og Y \n",
    "  X = [1]    # starter med sidelengde lik 1\n",
    "  Y = [n]    # den andre sidelengden er n\n",
    "  diff = 1   # definerer hvor lenge vi skal holde på\n",
    "  i = 0      # teller antall iterasjoner\n",
    "  while diff>10**(-s):\n",
    "    x = (X[-1]+Y[-1])/2    # ny approksimasjon av n\n",
    "    y = n/x                # \n",
    "    X.append(x)            # tildeler nye verdier for x og y\n",
    "    Y.append(y)            # i matrisene X og Y\n",
    "    diff = np.abs(ref-x)   # sjekker om svaret er presist nok\n",
    "    i = i+1                # i = i+1 teller hvor mange runder som trengs\n",
    "  print(                   # printer et svar\n",
    "        \"Etter å ha brukt Herons metode \"\n",
    "        + str(i)\n",
    "        + (\" gang\" if i == 1 else \" ganger\")\n",
    "        + \", har vi tilnærmet kvadratroten til \"\n",
    "        + str(n) \n",
    "        + \" med minst \"\n",
    "        + str(s)\n",
    "        + (\" desimal\" if s==1 else \" desimaler\")\n",
    "        )\n",
    "\n",
    "  print(\"\")\n",
    "  print(                  # skriver den siste approksimasjonen for n      \n",
    "      \"Tilnærmingen er da \"+str(X[-1]\n",
    "                                )\n",
    "        )  "
   ]
  },
  {
   "cell_type": "markdown",
   "metadata": {},
   "source": [
    "For eksempel kan vi bruke programmet til å bestemme kvadratroten av 2 med minst 3 gjeldende desimaler:"
   ]
  },
  {
   "cell_type": "code",
   "execution_count": 2,
   "metadata": {
    "scrolled": false
   },
   "outputs": [
    {
     "name": "stdout",
     "output_type": "stream",
     "text": [
      "Etter å ha brukt Herons metode 3 ganger, har vi tilnærmet kvadratroten til 2 med minst 3 desimaler\n",
      "\n",
      "Tilnærmingen er da 1.4142156862745097\n"
     ]
    }
   ],
   "source": [
    "herons(2,3)"
   ]
  },
  {
   "cell_type": "markdown",
   "metadata": {},
   "source": [
    "Prøv å bruke programmet til å bestemme kvadratroten av 13 med 4 desimaler."
   ]
  },
  {
   "cell_type": "code",
   "execution_count": 3,
   "metadata": {},
   "outputs": [
    {
     "name": "stdout",
     "output_type": "stream",
     "text": [
      "Etter å ha brukt Herons metode 5 ganger, har vi tilnærmet kvadratroten til 13 med minst 4 desimaler\n",
      "\n",
      "Tilnærmingen er da 3.6055513629176015\n"
     ]
    }
   ],
   "source": [
    "herons(13,4)"
   ]
  },
  {
   "cell_type": "code",
   "execution_count": null,
   "metadata": {},
   "outputs": [],
   "source": []
  }
 ],
 "metadata": {
  "kernelspec": {
   "display_name": "Python 3",
   "language": "python",
   "name": "python3"
  },
  "language_info": {
   "codemirror_mode": {
    "name": "ipython",
    "version": 3
   },
   "file_extension": ".py",
   "mimetype": "text/x-python",
   "name": "python",
   "nbconvert_exporter": "python",
   "pygments_lexer": "ipython3",
   "version": "3.8.3"
  }
 },
 "nbformat": 4,
 "nbformat_minor": 4
}
